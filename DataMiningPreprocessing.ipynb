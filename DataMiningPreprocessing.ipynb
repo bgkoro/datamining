{
  "nbformat": 4,
  "nbformat_minor": 0,
  "metadata": {
    "colab": {
      "name": "DataMiningPreprocessing.ipynb",
      "provenance": [],
      "authorship_tag": "ABX9TyPR6ZVfrHx/12FNt/V0ZoMS",
      "include_colab_link": true
    },
    "kernelspec": {
      "name": "python3",
      "display_name": "Python 3"
    }
  },
  "cells": [
    {
      "cell_type": "markdown",
      "metadata": {
        "id": "view-in-github",
        "colab_type": "text"
      },
      "source": [
        "<a href=\"https://colab.research.google.com/github/bgkoro/datamining/blob/main/DataMiningPreprocessing.ipynb\" target=\"_parent\"><img src=\"https://colab.research.google.com/assets/colab-badge.svg\" alt=\"Open In Colab\"/></a>"
      ]
    },
    {
      "cell_type": "code",
      "metadata": {
        "id": "vQIw5hDGCLYT"
      },
      "source": [
        "import numpy as np\n",
        "import matplotlib.pyplot as plt\n",
        "import pandas as pd"
      ],
      "execution_count": null,
      "outputs": []
    },
    {
      "cell_type": "code",
      "metadata": {
        "id": "k5tF7hk7CfMP"
      },
      "source": [
        "dataset = pd.read_csv('roti2.csv')\n",
        "x = dataset.iloc[:, :-1].values\n",
        "y = dataset.iloc[:, -1].values"
      ],
      "execution_count": null,
      "outputs": []
    },
    {
      "cell_type": "code",
      "metadata": {
        "colab": {
          "base_uri": "https://localhost:8080/"
        },
        "id": "Q70jLqCYCp4o",
        "outputId": "d501d5dc-addb-405f-f1ed-07ac416cea59"
      },
      "source": [
        "print(x)"
      ],
      "execution_count": null,
      "outputs": [
        {
          "output_type": "stream",
          "text": [
            "[['Minggu' 23.0 299000.0]\n",
            " ['Senin' 22.0 291000.0]\n",
            " ['Selasa' 19.0 247000.0]\n",
            " ['Rabu' nan 195000.0]\n",
            " ['Kamis' 16.0 215000.0]\n",
            " ['Jumat' 27.0 nan]]\n"
          ],
          "name": "stdout"
        }
      ]
    },
    {
      "cell_type": "code",
      "metadata": {
        "colab": {
          "base_uri": "https://localhost:8080/"
        },
        "id": "YGkXPv1eCwPI",
        "outputId": "54f2a8e8-5083-4123-a432-68416568fe89"
      },
      "source": [
        "print(y)"
      ],
      "execution_count": null,
      "outputs": [
        {
          "output_type": "stream",
          "text": [
            "['Cerah' 'Cerah' 'Hujan' 'Hujan' 'Hujan' 'Cerah']\n"
          ],
          "name": "stdout"
        }
      ]
    },
    {
      "cell_type": "code",
      "metadata": {
        "id": "PppEWfeLCyXr"
      },
      "source": [
        "from sklearn.impute import SimpleImputer\n",
        "imputer = SimpleImputer(missing_values=np.nan, strategy='mean')\n",
        "imputer.fit(x[:, 1:3])\n",
        "x[:, 1:3] = imputer.transform(x[:, 1:3])"
      ],
      "execution_count": null,
      "outputs": []
    },
    {
      "cell_type": "code",
      "metadata": {
        "colab": {
          "base_uri": "https://localhost:8080/"
        },
        "id": "_hTMC1g-C-tI",
        "outputId": "c2f41b23-4240-400d-b114-e099c32d9d04"
      },
      "source": [
        "print(x)"
      ],
      "execution_count": null,
      "outputs": [
        {
          "output_type": "stream",
          "text": [
            "[['Minggu' 23.0 299000.0]\n",
            " ['Senin' 22.0 291000.0]\n",
            " ['Selasa' 19.0 247000.0]\n",
            " ['Rabu' 21.4 195000.0]\n",
            " ['Kamis' 16.0 215000.0]\n",
            " ['Jumat' 27.0 249400.0]]\n"
          ],
          "name": "stdout"
        }
      ]
    },
    {
      "cell_type": "code",
      "metadata": {
        "id": "UCWS-g0GDDKK"
      },
      "source": [
        "from sklearn.compose import ColumnTransformer\n",
        "from sklearn.preprocessing import OneHotEncoder\n",
        "ct = ColumnTransformer(transformers=[('encoder', OneHotEncoder(), [0])], remainder = 'passthrough')\n",
        "x = np.array(ct.fit_transform(x))"
      ],
      "execution_count": null,
      "outputs": []
    },
    {
      "cell_type": "code",
      "metadata": {
        "colab": {
          "base_uri": "https://localhost:8080/"
        },
        "id": "P2fIZ0lQDKbH",
        "outputId": "183ccbb4-c6b8-4ae7-cbc8-32ef0c2e9b22"
      },
      "source": [
        "print(x)"
      ],
      "execution_count": null,
      "outputs": [
        {
          "output_type": "stream",
          "text": [
            "[[0.0 0.0 1.0 0.0 0.0 0.0 23.0 299000.0]\n",
            " [0.0 0.0 0.0 0.0 0.0 1.0 22.0 291000.0]\n",
            " [0.0 0.0 0.0 0.0 1.0 0.0 19.0 247000.0]\n",
            " [0.0 0.0 0.0 1.0 0.0 0.0 21.4 195000.0]\n",
            " [0.0 1.0 0.0 0.0 0.0 0.0 16.0 215000.0]\n",
            " [1.0 0.0 0.0 0.0 0.0 0.0 27.0 249400.0]]\n"
          ],
          "name": "stdout"
        }
      ]
    },
    {
      "cell_type": "code",
      "metadata": {
        "id": "3AtvtD-xDluy",
        "colab": {
          "base_uri": "https://localhost:8080/"
        },
        "outputId": "0b027c32-050a-48d7-b895-6b069930e5cb"
      },
      "source": [
        "print(y)"
      ],
      "execution_count": null,
      "outputs": [
        {
          "output_type": "stream",
          "text": [
            "['Cerah' 'Cerah' 'Hujan' 'Hujan' 'Hujan' 'Cerah']\n"
          ],
          "name": "stdout"
        }
      ]
    },
    {
      "cell_type": "code",
      "metadata": {
        "id": "OT2nQCX2UIm7"
      },
      "source": [
        "from sklearn.preprocessing import LabelEncoder\n",
        "le = LabelEncoder()\n",
        "y = le.fit_transform(y)"
      ],
      "execution_count": null,
      "outputs": []
    },
    {
      "cell_type": "code",
      "metadata": {
        "colab": {
          "base_uri": "https://localhost:8080/"
        },
        "id": "8mDl_2ogUONY",
        "outputId": "5630b754-fb94-4405-aa90-732886aaad95"
      },
      "source": [
        "print(y)"
      ],
      "execution_count": null,
      "outputs": [
        {
          "output_type": "stream",
          "text": [
            "[0 0 1 1 1 0]\n"
          ],
          "name": "stdout"
        }
      ]
    },
    {
      "cell_type": "code",
      "metadata": {
        "id": "8y-aOBUuUT9E"
      },
      "source": [
        "from sklearn.model_selection import train_test_split\n",
        "x_train, x_test, y_train, y_test = train_test_split(x, y, test_size=0.2, random_state=1)"
      ],
      "execution_count": null,
      "outputs": []
    },
    {
      "cell_type": "code",
      "metadata": {
        "colab": {
          "base_uri": "https://localhost:8080/"
        },
        "id": "KYmyaehQUdo-",
        "outputId": "b35f4b27-cf09-4268-c3cd-7af4bdef62b3"
      },
      "source": [
        "print(x_train)"
      ],
      "execution_count": null,
      "outputs": [
        {
          "output_type": "stream",
          "text": [
            "[[0.0 1.0 0.0 0.0 0.0 0.0 16.0 215000.0]\n",
            " [0.0 0.0 1.0 0.0 0.0 0.0 23.0 299000.0]\n",
            " [0.0 0.0 0.0 1.0 0.0 0.0 21.4 195000.0]\n",
            " [1.0 0.0 0.0 0.0 0.0 0.0 27.0 249400.0]]\n"
          ],
          "name": "stdout"
        }
      ]
    },
    {
      "cell_type": "code",
      "metadata": {
        "colab": {
          "base_uri": "https://localhost:8080/"
        },
        "id": "HLUh4UN9UiQf",
        "outputId": "b1ef506d-3c39-4dc1-dc61-2bd693822d20"
      },
      "source": [
        "print(x_test)"
      ],
      "execution_count": null,
      "outputs": [
        {
          "output_type": "stream",
          "text": [
            "[[0.0 0.0 0.0 0.0 1.0 0.0 19.0 247000.0]\n",
            " [0.0 0.0 0.0 0.0 0.0 1.0 22.0 291000.0]]\n"
          ],
          "name": "stdout"
        }
      ]
    },
    {
      "cell_type": "code",
      "metadata": {
        "colab": {
          "base_uri": "https://localhost:8080/"
        },
        "id": "raE5t-nmUlYL",
        "outputId": "c52244bc-f2dc-4fe6-f040-4f7dc1a79e11"
      },
      "source": [
        "print(y_train)"
      ],
      "execution_count": null,
      "outputs": [
        {
          "output_type": "stream",
          "text": [
            "[1 0 1 0]\n"
          ],
          "name": "stdout"
        }
      ]
    },
    {
      "cell_type": "code",
      "metadata": {
        "colab": {
          "base_uri": "https://localhost:8080/"
        },
        "id": "zU8DIUaaUouw",
        "outputId": "e285ff7b-3cd2-404e-c0e9-03bf96d21b65"
      },
      "source": [
        "print(y_test)"
      ],
      "execution_count": null,
      "outputs": [
        {
          "output_type": "stream",
          "text": [
            "[1 0]\n"
          ],
          "name": "stdout"
        }
      ]
    },
    {
      "cell_type": "code",
      "metadata": {
        "id": "TUaiCLkoUtun"
      },
      "source": [
        "from sklearn.preprocessing import StandardScaler\n",
        "sc = StandardScaler()\n",
        "x_train[:, 3:] = sc.fit_transform(x_train[:, 3:])\n",
        "x_test[:, 3:] = sc.transform(x_test[:, 3:])"
      ],
      "execution_count": null,
      "outputs": []
    },
    {
      "cell_type": "code",
      "metadata": {
        "colab": {
          "base_uri": "https://localhost:8080/"
        },
        "id": "JGErwyW9Uzal",
        "outputId": "ab853791-9f64-4500-fcfa-1f6d7e8d017c"
      },
      "source": [
        "print(x_train)"
      ],
      "execution_count": null,
      "outputs": [
        {
          "output_type": "stream",
          "text": [
            "[[0.0 1.0 0.0 -0.5773502691896258 0.0 0.0 -1.4826765843777983\n",
            "  -0.6238994478339747]\n",
            " [0.0 0.0 1.0 -0.5773502691896258 0.0 0.0 0.2914663370999086\n",
            "  1.5064889106235]\n",
            " [0.0 0.0 0.0 1.7320508075688774 0.0 0.0 -0.11405204495213901\n",
            "  -1.1311347712762305]\n",
            " [1.0 0.0 0.0 -0.5773502691896258 0.0 0.0 1.3052622922300268\n",
            "  0.24854530848670536]]\n"
          ],
          "name": "stdout"
        }
      ]
    },
    {
      "cell_type": "code",
      "metadata": {
        "id": "IgbtamP4U73K",
        "colab": {
          "base_uri": "https://localhost:8080/"
        },
        "outputId": "6826ea6f-cf3c-4a4c-b219-8e5353fd2117"
      },
      "source": [
        "print(x_test)"
      ],
      "execution_count": null,
      "outputs": [
        {
          "output_type": "stream",
          "text": [
            "[[0.0 0.0 0.0 -0.5773502691896258 1.0 0.0 -0.7223296180302096\n",
            "  0.18767706967363468]\n",
            " [0.0 0.0 0.0 -0.5773502691896258 0.0 1.0 0.038017348317379074\n",
            "  1.3035947812465976]]\n"
          ],
          "name": "stdout"
        }
      ]
    }
  ]
}